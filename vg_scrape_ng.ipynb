{
 "cells": [
  {
   "cell_type": "markdown",
   "metadata": {},
   "source": [
    "Connected to Python 3.11.4"
   ]
  },
  {
   "cell_type": "code",
   "execution_count": 2,
   "metadata": {},
   "outputs": [],
   "source": [
    "from bs4 import BeautifulSoup, element\n",
    "import urllib\n",
    "import urllib.request\n",
    "import pandas as pd\n",
    "import numpy as np\n",
    "import os"
   ]
  },
  {
   "cell_type": "code",
   "execution_count": 12,
   "metadata": {},
   "outputs": [
    {
     "name": "stdout",
     "output_type": "stream",
     "text": [
      "Page: 1\n",
      "1 Fetch data for game The Sims\n",
      "2 Fetch data for game Final Fantasy\n",
      "3 Fetch data for game Grand Theft Auto V\n",
      "4 Fetch data for game Mario Kart\n",
      "5 Fetch data for game Need for Speed\n",
      "6 Fetch data for game Resident Evil\n",
      "7 Fetch data for game Tomb Raider\n",
      "8 Fetch data for game The Legend of Zelda\n",
      "9 Fetch data for game NBA 2K\n",
      "10 Fetch data for game Madden NFL\n",
      "11 Fetch data for game Wii/Nintendo Sports\n",
      "12 Fetch data for game Pro Evolution Soccer/eFootball\n",
      "13 Fetch data for game Sonic the Hedgehog\n",
      "14 Fetch data for game Monster Hunter\n",
      "15 Fetch data for game The Elder Scrolls\n",
      "Page: 2\n",
      "16 Fetch data for game The Witcher\n",
      "17 Fetch data for game Worms\n",
      "18 Fetch data for game Super Smash Bros.\n",
      "19 Fetch data for game Mario Party\n",
      "20 Fetch data for game Just Dance\n",
      "21 Fetch data for game PlayerUnknown's Battlegrounds\n",
      "22 Fetch data for game WWE 2K\n",
      "23 Fetch data for game Dragon Ball\n",
      "24 Fetch data for game Civilization\n",
      "25 Fetch data for game God of War\n",
      "26 Fetch data for game Counter-Strike\n",
      "27 Fetch data for game Donkey Kong\n",
      "28 Fetch data for game The Oregon Trail\n",
      "29 Fetch data for game The Elder Scrolls V: Skyrim\n",
      "30 Fetch data for game Metal Gear\n"
     ]
    }
   ],
   "source": [
    "pages = 3\n",
    "rec_count = 0\n",
    "rank = []\n",
    "gname = []\n",
    "platform = []\n",
    "year = []\n",
    "genre = []\n",
    "critic_score = []\n",
    "user_score = []\n",
    "publisher = []\n",
    "developer = []\n",
    "sales_na = []\n",
    "sales_pal = []\n",
    "sales_jp = []\n",
    "sales_ot = []\n",
    "sales_gl = []\n",
    "\n",
    "urlhead = 'http://www.vgchartz.com/gamedb/?page='\n",
    "urltail = '&console=&region=All&developer=&publisher=&genre=&boxart=Both&ownership=Both'\n",
    "urltail += '&results=25&order=Sales&showtotalsales=0&showtotalsales=1&showpublisher=0'\n",
    "urltail += '&showpublisher=1&showvgchartzscore=0&shownasales=1&showdeveloper=1&showcriticscore=1'\n",
    "urltail += '&showpalsales=0&showpalsales=1&showreleasedate=1&showuserscore=1&showjapansales=1'\n",
    "urltail += '&showlastupdate=0&showothersales=1&showgenre=1&sort=GL'\n",
    "\n",
    "for page in range(1, pages):\n",
    "    surl = urlhead + str(page) + urltail\n",
    "    # urllib error, no att request\n",
    "    r = urllib.request.urlopen(surl, data = None).read()\n",
    "    # add features = html.parser\n",
    "    soup = BeautifulSoup(r,features = \"html.parser\" )\n",
    "    print(f\"Page: {page}\")\n",
    "\n",
    "    # vgchartz website is really weird so we have to search for\n",
    "    # <a> tags with game urls\n",
    "    #game_tags = list(filter(\n",
    "        #lambda x: x.attrs['href'].startswith('http://www.vgchartz.com/game/'),\n",
    "        # discard the first 10 elements because those\n",
    "        # links are in the navigation bar\n",
    "        #soup.find_all(\"a\")\n",
    "    # '' Pull request quick fix\n",
    "    game_tags = list(filter(\n",
    "        lambda x: 'href' in x.attrs and x.attrs['href'].startswith('https://www.vgchartz.com/game/'),\n",
    "        # discard the first 10 elements because those\n",
    "        # links are in the navigation bar\n",
    "        soup.find_all(\"a\")\n",
    "    ))[10:]\n",
    "\n",
    "    for tag in game_tags:\n",
    "        \n",
    "        # add name to list\n",
    "        gname.append(\" \".join(tag.string.split()))\n",
    "        print(f\"{rec_count + 1} Fetch data for game {gname[-1]}\")\n",
    "\n",
    "        # get different attributes\n",
    "        # traverse up the DOM tree\n",
    "        data = tag.parent.parent.find_all(\"td\")\n",
    "        rank.append(np.int32(data[0].string))\n",
    "        platform.append(data[3].find('img').attrs['alt'])\n",
    "        publisher.append(data[4].string)\n",
    "        developer.append(data[5].string)\n",
    "        critic_score.append(\n",
    "            float(data[6].string) if\n",
    "            not data[6].string.startswith(\"N/A\") else np.nan)\n",
    "        user_score.append(\n",
    "            float(data[7].string) if\n",
    "            not data[7].string.startswith(\"N/A\") else np.nan)\n",
    "        sales_na.append(\n",
    "            float(data[9].string[:-1]) if\n",
    "            not data[9].string.startswith(\"N/A\") else np.nan)\n",
    "        sales_pal.append(\n",
    "            float(data[10].string[:-1]) if\n",
    "            not data[10].string.startswith(\"N/A\") else np.nan)\n",
    "        sales_jp.append(\n",
    "            float(data[11].string[:-1]) if\n",
    "            not data[11].string.startswith(\"N/A\") else np.nan)\n",
    "        sales_ot.append(\n",
    "            float(data[12].string[:-1]) if\n",
    "            not data[12].string.startswith(\"N/A\") else np.nan)\n",
    "        sales_gl.append(\n",
    "            float(data[8].string[:-1]) if\n",
    "            not data[8].string.startswith(\"N/A\") else np.nan)\n",
    "        release_year = data[13].string.split()[-1]\n",
    "        # different format for year\n",
    "        if release_year.startswith('N/A'):\n",
    "            year.append('N/A')\n",
    "        else:\n",
    "            if int(release_year) >= 80:\n",
    "                year_to_add = np.int32(\"19\" + release_year)\n",
    "            else:\n",
    "                year_to_add = np.int32(\"20\" + release_year)\n",
    "            year.append(year_to_add)\n",
    "\n",
    "        # go to every individual website to get genre info\n",
    "        url_to_game = tag.attrs['href']\n",
    "        site_raw = urllib.request.urlopen(url_to_game).read()\n",
    "        sub_soup = BeautifulSoup(site_raw, \"html.parser\")\n",
    "        # again, the info box is inconsistent among games so we\n",
    "        # have to find all the h2 and traverse from that to the genre name\n",
    "        h2s = sub_soup.find(\"div\", {\"id\": \"gameGenInfoBox\"}).find_all('h2')\n",
    "        # make a temporary tag here to search for the one that contains\n",
    "        # the word \"Genre\"\n",
    "        temp_tag = element.Tag\n",
    "        for h2 in h2s:\n",
    "            if h2.string == 'Genre':\n",
    "                temp_tag = h2\n",
    "        genre.append(temp_tag.next_sibling.string)\n",
    "\n",
    "        rec_count += 1\n",
    "\n",
    "columns = {\n",
    "    'Rank': rank,\n",
    "    'Name': gname,\n",
    "    'Platform': platform,\n",
    "    'Year': year,\n",
    "    'Genre': genre,\n",
    "    'Critic_Score': critic_score,\n",
    "    'User_Score': user_score,\n",
    "    'Publisher': publisher,\n",
    "    'Developer': developer,\n",
    "    'NA_Sales': sales_na,\n",
    "    'PAL_Sales': sales_pal,\n",
    "    'JP_Sales': sales_jp,\n",
    "    'Other_Sales': sales_ot,\n",
    "    'Global_Sales': sales_gl\n",
    "}"
   ]
  },
  {
   "cell_type": "code",
   "execution_count": 13,
   "metadata": {},
   "outputs": [
    {
     "name": "stdout",
     "output_type": "stream",
     "text": [
      "[<a href=\"https://www.vgchartz.com/game/226111/the-witcher/?region=All\">The Witcher    </a>, <a href=\"https://www.vgchartz.com/game/228118/worms/?region=All\">Worms    </a>, <a href=\"https://www.vgchartz.com/game/226193/super-smash-bros/?region=All\">Super Smash Bros.    </a>, <a href=\"https://www.vgchartz.com/game/226170/mario-party/?region=All\">Mario Party    </a>, <a href=\"https://www.vgchartz.com/game/226101/just-dance/?region=All\">Just Dance    </a>, <a href=\"https://www.vgchartz.com/game/227625/playerunknowns-battlegrounds/?region=All\">PlayerUnknown's Battlegrounds    </a>, <a href=\"https://www.vgchartz.com/game/226269/wwe-2k/?region=All\">WWE 2K    </a>, <a href=\"https://www.vgchartz.com/game/226286/dragon-ball/?region=All\">Dragon Ball    </a>, <a href=\"https://www.vgchartz.com/game/226068/civilization/?region=All\">Civilization    </a>, <a href=\"https://www.vgchartz.com/game/226282/god-of-war/?region=All\">God of War    </a>, <a href=\"https://www.vgchartz.com/game/226175/counter-strike/?region=All\">Counter-Strike    </a>, <a href=\"https://www.vgchartz.com/game/226203/donkey-kong/?region=All\">Donkey Kong    </a>, <a href=\"https://www.vgchartz.com/game/226167/the-oregon-trail/?region=All\">The Oregon Trail    </a>, <a href=\"https://www.vgchartz.com/game/227648/the-elder-scrolls-v-skyrim/?region=All\">The Elder Scrolls V: Skyrim    </a>, <a href=\"https://www.vgchartz.com/game/226234/metal-gear/?region=All\">Metal Gear    </a>]\n"
     ]
    }
   ],
   "source": [
    "print(game_tags)"
   ]
  },
  {
   "cell_type": "code",
   "execution_count": 10,
   "metadata": {},
   "outputs": [
    {
     "name": "stdout",
     "output_type": "stream",
     "text": [
      "10\n",
      "Index(['Rank', 'Name', 'Platform', 'Year', 'Genre', 'Critic_Score',\n",
      "       'User_Score', 'Publisher', 'Developer', 'NA_Sales', 'PAL_Sales',\n",
      "       'JP_Sales', 'Other_Sales', 'Global_Sales'],\n",
      "      dtype='object')\n"
     ]
    }
   ],
   "source": [
    "print(rec_count)\n",
    "df = pd.DataFrame(columns)\n",
    "print(df.columns)\n",
    "df = df[[\n",
    "    'Rank', 'Name', 'Platform', 'Year', 'Genre',\n",
    "    'Publisher', 'Developer', 'Critic_Score', 'User_Score',\n",
    "    'NA_Sales', 'PAL_Sales', 'JP_Sales', 'Other_Sales', 'Global_Sales']]"
   ]
  },
  {
   "cell_type": "code",
   "execution_count": 11,
   "metadata": {},
   "outputs": [
    {
     "name": "stdout",
     "output_type": "stream",
     "text": [
      "   Rank                            Name Platform  Year             Genre  \\\n",
      "0    21             Wii/Nintendo Sports   Series  2006            Sports   \n",
      "1    22  Pro Evolution Soccer/eFootball   Series  1995            Sports   \n",
      "2    23              Sonic the Hedgehog   Series  1991          Platform   \n",
      "3    24                  Monster Hunter   Series  2004      Role-Playing   \n",
      "4    25               The Elder Scrolls   Series  1994      Role-Playing   \n",
      "5    46                  Counter-Strike   Series  2000           Shooter   \n",
      "6    47                     Donkey Kong   Series  1981          Platform   \n",
      "7    48                The Oregon Trail   Series  2071         Education   \n",
      "8    49     The Elder Scrolls V: Skyrim      All  2011      Role-Playing   \n",
      "9    50                      Metal Gear   Series  1987  Action-Adventure   \n",
      "\n",
      "              Publisher                Developer  Critic_Score  User_Score  \\\n",
      "0            Nintendo                 Nintendo             NaN         NaN   \n",
      "1              Konami                   Konami             NaN         NaN   \n",
      "2                Sega               Sonic Team             NaN         NaN   \n",
      "3              Capcom                   Capcom             NaN         NaN   \n",
      "4  Bethesda Softworks       Bethesda Softworks             NaN         NaN   \n",
      "5               Valve                    Valve             NaN         NaN   \n",
      "6            Nintendo                 Nintendo             NaN         NaN   \n",
      "7                MECC                     MECC             NaN         NaN   \n",
      "8  Bethesda Softworks    Bethesda Game Studios             NaN         NaN   \n",
      "9              Konami                   Konami             NaN         NaN   \n",
      "\n",
      "   NA_Sales  PAL_Sales  JP_Sales  Other_Sales  Global_Sales  \n",
      "0       NaN        NaN       NaN          NaN           NaN  \n",
      "1       NaN        NaN       NaN          NaN           NaN  \n",
      "2       NaN        NaN       NaN          NaN           NaN  \n",
      "3       NaN        NaN       NaN          NaN           NaN  \n",
      "4       NaN        NaN       NaN          NaN           NaN  \n",
      "5       NaN        NaN       NaN          NaN           NaN  \n",
      "6       NaN        NaN       NaN          NaN           NaN  \n",
      "7       NaN        NaN       NaN          NaN           NaN  \n",
      "8       NaN        NaN       NaN          NaN           NaN  \n",
      "9       NaN        NaN       NaN          NaN           NaN  \n"
     ]
    }
   ],
   "source": [
    "print(df)"
   ]
  },
  {
   "cell_type": "code",
   "execution_count": 8,
   "metadata": {},
   "outputs": [],
   "source": [
    "# change the name of the file\n",
    "df.to_csv(os.getcwd()+r\"\\vgsales7.24.23.csv\", sep=\",\", encoding='utf-8', index=False)"
   ]
  }
 ],
 "metadata": {
  "kernelspec": {
   "display_name": "Python 3",
   "language": "python",
   "name": "python3"
  },
  "language_info": {
   "codemirror_mode": {
    "name": "ipython",
    "version": 3
   },
   "file_extension": ".py",
   "mimetype": "text/x-python",
   "name": "python",
   "nbconvert_exporter": "python",
   "pygments_lexer": "ipython3",
   "version": "3.11.4"
  },
  "orig_nbformat": 4
 },
 "nbformat": 4,
 "nbformat_minor": 2
}
